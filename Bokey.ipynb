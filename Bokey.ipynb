{
 "cells": [
  {
   "cell_type": "markdown",
   "metadata": {},
   "source": [
    "# Bokey"
   ]
  },
  {
   "cell_type": "code",
   "execution_count": 3,
   "metadata": {},
   "outputs": [
    {
     "name": "stdout",
     "output_type": "stream",
     "text": [
      "Collecting bokeh==0.13.0\n",
      "  Downloading https://files.pythonhosted.org/packages/07/1b/1bb751797f0bbbafc2642c629656ce158e7e7b7fb1110f449f7c320fb819/bokeh-0.13.0.tar.gz (16.0MB)\n",
      "Requirement already satisfied: six>=1.5.2 in d:\\datascience\\anaconda\\lib\\site-packages (from bokeh==0.13.0) (1.12.0)\n",
      "Requirement already satisfied: PyYAML>=3.10 in d:\\datascience\\anaconda\\lib\\site-packages (from bokeh==0.13.0) (5.1)\n",
      "Requirement already satisfied: python-dateutil>=2.1 in d:\\datascience\\anaconda\\lib\\site-packages (from bokeh==0.13.0) (2.8.0)\n",
      "Requirement already satisfied: Jinja2>=2.7 in d:\\datascience\\anaconda\\lib\\site-packages (from bokeh==0.13.0) (2.10)\n",
      "Requirement already satisfied: numpy>=1.7.1 in d:\\datascience\\anaconda\\lib\\site-packages (from bokeh==0.13.0) (1.16.2)\n",
      "Requirement already satisfied: packaging>=16.8 in d:\\datascience\\anaconda\\lib\\site-packages (from bokeh==0.13.0) (19.0)\n",
      "Requirement already satisfied: tornado>=4.3 in d:\\datascience\\anaconda\\lib\\site-packages (from bokeh==0.13.0) (6.0.2)\n",
      "Requirement already satisfied: MarkupSafe>=0.23 in d:\\datascience\\anaconda\\lib\\site-packages (from Jinja2>=2.7->bokeh==0.13.0) (1.1.1)\n",
      "Requirement already satisfied: pyparsing>=2.0.2 in d:\\datascience\\anaconda\\lib\\site-packages (from packaging>=16.8->bokeh==0.13.0) (2.3.1)\n",
      "Building wheels for collected packages: bokeh\n",
      "  Building wheel for bokeh (setup.py): started\n",
      "  Building wheel for bokeh (setup.py): finished with status 'done'\n",
      "  Stored in directory: C:\\Users\\hp\\AppData\\Local\\pip\\Cache\\wheels\\05\\3e\\43\\95ff0bde940a0a5d86ec13c22d2a4bddc97271cd788f441a63\n",
      "Successfully built bokeh\n",
      "Installing collected packages: bokeh\n",
      "  Found existing installation: bokeh 1.0.4\n",
      "    Uninstalling bokeh-1.0.4:\n",
      "      Successfully uninstalled bokeh-1.0.4\n",
      "Successfully installed bokeh-0.13.0\n",
      "Note: you may need to restart the kernel to use updated packages.\n"
     ]
    }
   ],
   "source": [
    "pip install bokeh==0.13.0"
   ]
  },
  {
   "cell_type": "code",
   "execution_count": null,
   "metadata": {},
   "outputs": [],
   "source": []
  }
 ],
 "metadata": {
  "kernelspec": {
   "display_name": "Python 3",
   "language": "python",
   "name": "python3"
  },
  "language_info": {
   "codemirror_mode": {
    "name": "ipython",
    "version": 3
   },
   "file_extension": ".py",
   "mimetype": "text/x-python",
   "name": "python",
   "nbconvert_exporter": "python",
   "pygments_lexer": "ipython3",
   "version": "3.7.3"
  }
 },
 "nbformat": 4,
 "nbformat_minor": 2
}
